{
  "nbformat": 4,
  "nbformat_minor": 0,
  "metadata": {
    "colab": {
      "name": "Astar_and_Uniform_Cost_Search.ipynb",
      "provenance": [],
      "collapsed_sections": [],
      "include_colab_link": true
    },
    "kernelspec": {
      "name": "python3",
      "display_name": "Python 3"
    }
  },
  "cells": [
    {
      "cell_type": "markdown",
      "metadata": {
        "id": "view-in-github",
        "colab_type": "text"
      },
      "source": [
        "<a href=\"https://colab.research.google.com/github/aswin4400/notebooks/blob/master/Astar_and_Uniform_Cost_Search.ipynb\" target=\"_parent\"><img src=\"https://colab.research.google.com/assets/colab-badge.svg\" alt=\"Open In Colab\"/></a>"
      ]
    },
    {
      "cell_type": "markdown",
      "metadata": {
        "id": "fdqb2KXdv8pa"
      },
      "source": [
        "## A* And Uniform Cost Search for Problem Solving AI Agents"
      ]
    },
    {
      "cell_type": "markdown",
      "metadata": {
        "id": "pvDazEkMswUI"
      },
      "source": [
        "A* Search and Uniform Cost Search are graph traversal and path search algorithms. Starting from a specific starting node of a graph, both algorithms aims to find a path to the given goal node having the smallest cost (least distance travelled, shortest time, etc.). Both the algorithms are implemented in Python given below:\n",
        "\n"
      ]
    },
    {
      "cell_type": "markdown",
      "metadata": {
        "id": "dVjGFzGLusqw"
      },
      "source": [
        "The sample input contains the start_node, end_node, the costs and the heuristics. "
      ]
    },
    {
      "cell_type": "code",
      "metadata": {
        "id": "qDdTBVNMV-Ty"
      },
      "source": [
        "#two sample inputs\n",
        "sample1=[['A','B',60,315],['A','C',125,315],['A','E',115,315],['B','C',130,340],['E','F',60,195],['F','G',55,210],['G','H',90,160],['C','D',90,210],['C','G',70,210],['D','I',150,150],['H','I',85,70]]\n",
        "sample2=[['S','A',6,17],['S','B',5,17],['S','C',10,17],['A','E',6,10],['B','E',6,13],['B','D',7,13],['C','D',6,4],['E','F',6,4],['D','F',6,2],['F','G',1,1]]"
      ],
      "execution_count": null,
      "outputs": []
    },
    {
      "cell_type": "code",
      "metadata": {
        "id": "t2wnn2KKmjG4",
        "colab": {
          "base_uri": "https://localhost:8080/"
        },
        "outputId": "01cab54b-60b8-4cd2-c444-2ef896e74011"
      },
      "source": [
        "#adding all vertices in sample 1 to a nodes set\n",
        "temp = []\n",
        "temp1 = []\n",
        "for i in sample1:\n",
        "  temp.append(i[0])\n",
        "  temp1.append(i[1])\n",
        "nodes = set(temp).union(set(temp1))\n",
        "print(nodes)"
      ],
      "execution_count": null,
      "outputs": [
        {
          "output_type": "stream",
          "name": "stdout",
          "text": [
            "{'C', 'F', 'B', 'G', 'H', 'A', 'D', 'I', 'E'}\n"
          ]
        }
      ]
    },
    {
      "cell_type": "code",
      "metadata": {
        "id": "d6JM_WPSzuON"
      },
      "source": [
        "#UCS_Algorithm\n",
        "def UCS(sample, costs, open, closed, cur_node):\n",
        "  print(\"Open = \",list(open),\" Closed = \",list(closed))\n",
        "  if cur_node in open:\n",
        "    open.remove(cur_node)\n",
        "  closed.add(cur_node)\n",
        "  for i in sample:\n",
        "    if(i[0] == cur_node and costs[i[0]]+i[2] < costs[i[1]]):\n",
        "      open.add(i[1])\n",
        "      costs[i[1]] = costs[i[0]]+i[2]\n",
        "      path[i[1]] = path[i[0]] + ' -> ' + i[1]\n",
        "  costs[cur_node] = 999999\n",
        "  small = min(costs, key=costs.get)\n",
        "  if small not in closed:\n",
        "    UCS(sample, costs, open,closed, small)\n",
        "\n",
        "#A_star_Algorithm\n",
        "def A_star(sample, costs, open, closed, cur_node):\n",
        "  print(\"Open = \",list(open),\" Closed = \",list(closed))\n",
        "  if cur_node in open:\n",
        "    open.remove(cur_node)\n",
        "  closed.add(cur_node)\n",
        "  for i in sample:\n",
        "    if(i[0] == cur_node and costs[i[0]]+i[2]+i[3] < costs[i[1]]):\n",
        "      open.add(i[1])\n",
        "      costs[i[1]] =  costs[i[0]]+i[2]+i[3]\n",
        "      path[i[1]] = path[i[0]] + ' -> ' + i[1]\n",
        "  costs[cur_node] = 999999\n",
        "  small = min(costs, key=costs.get)\n",
        "  if small not in closed:\n",
        "    A_star(sample, costs, open,closed, small)"
      ],
      "execution_count": null,
      "outputs": []
    },
    {
      "cell_type": "code",
      "metadata": {
        "id": "Rt7DjAe3oN4h",
        "colab": {
          "base_uri": "https://localhost:8080/"
        },
        "outputId": "7ac06dc3-5a4f-4355-b8e5-43e3f7a5f97b"
      },
      "source": [
        "#UCS for sample 1\n",
        "costs = dict()\n",
        "temp_cost = dict()\n",
        "path = dict()\n",
        "for i in nodes:\n",
        "  costs[i] = 999999\n",
        "  path[i] = ' '\n",
        "open = set()\n",
        "closed = set()\n",
        "start_node = input(\"Enter the Start Node: \")\n",
        "open.add(start_node)\n",
        "path[start_node] = start_node\n",
        "costs[start_node] = 0\n",
        "print(\"Using UCS Algorithm: \")\n",
        "UCS(sample1, costs, open, closed, start_node)\n",
        "goal_node = input(\"Enter the Goal Node: \")\n",
        "print(\"\\n\\nPath with least cost is: \",path[goal_node])"
      ],
      "execution_count": null,
      "outputs": [
        {
          "output_type": "stream",
          "name": "stdout",
          "text": [
            "Enter the Start Node: A\n",
            "Using UCS Algorithm: \n",
            "Open =  ['A']  Closed =  []\n",
            "Open =  ['C', 'E', 'B']  Closed =  ['A']\n",
            "Open =  ['C', 'E']  Closed =  ['A', 'B']\n",
            "Open =  ['C', 'F']  Closed =  ['A', 'E', 'B']\n",
            "Open =  ['G', 'D', 'F']  Closed =  ['C', 'A', 'E', 'B']\n",
            "Open =  ['G', 'D']  Closed =  ['C', 'F', 'B', 'A', 'E']\n",
            "Open =  ['D', 'H']  Closed =  ['C', 'F', 'B', 'G', 'A', 'E']\n",
            "Open =  ['I', 'H']  Closed =  ['C', 'F', 'B', 'G', 'A', 'D', 'E']\n",
            "Open =  ['I']  Closed =  ['C', 'F', 'B', 'G', 'H', 'A', 'D', 'E']\n",
            "Enter the Goal Node: D\n",
            "\n",
            "\n",
            "Path with least cost is:  A -> C -> D\n"
          ]
        }
      ]
    },
    {
      "cell_type": "code",
      "metadata": {
        "id": "-gBPfGJitEoc",
        "colab": {
          "base_uri": "https://localhost:8080/"
        },
        "outputId": "e468df01-649f-4540-d541-60e27f950ef6"
      },
      "source": [
        "#A_star for sample 1\n",
        "costs = dict()\n",
        "temp_cost = dict()\n",
        "path = dict()\n",
        "for i in nodes:\n",
        "  costs[i] = 999999\n",
        "  path[i] = ' '\n",
        "open = set()\n",
        "closed = set()\n",
        "start_node = input(\"Enter the Start Node: \")\n",
        "open.add(start_node)\n",
        "path[start_node] = start_node\n",
        "costs[start_node] = 0\n",
        "print(\"Using A_Star Algorithm: \")\n",
        "A_star(sample1, costs, open, closed, start_node)\n",
        "goal_node = input(\"Enter the Goal Node: \")\n",
        "print(\"\\n\\nPath with least cost is: \",path[goal_node])"
      ],
      "execution_count": null,
      "outputs": [
        {
          "output_type": "stream",
          "name": "stdout",
          "text": [
            "Enter the Start Node: A\n",
            "Using A_Star Algorithm: \n",
            "Open =  ['A']  Closed =  []\n",
            "Open =  ['C', 'E', 'B']  Closed =  ['A']\n",
            "Open =  ['C', 'E']  Closed =  ['A', 'B']\n",
            "Open =  ['C', 'F']  Closed =  ['A', 'E', 'B']\n",
            "Open =  ['G', 'D', 'F']  Closed =  ['C', 'A', 'E', 'B']\n",
            "Open =  ['G', 'D']  Closed =  ['C', 'F', 'B', 'A', 'E']\n",
            "Open =  ['D', 'H']  Closed =  ['C', 'F', 'B', 'G', 'A', 'E']\n",
            "Open =  ['I', 'H']  Closed =  ['C', 'F', 'B', 'G', 'A', 'D', 'E']\n",
            "Open =  ['I']  Closed =  ['C', 'F', 'B', 'G', 'H', 'A', 'D', 'E']\n",
            "Enter the Goal Node: D\n",
            "\n",
            "\n",
            "Path with least cost is:  A -> C -> D\n"
          ]
        }
      ]
    },
    {
      "cell_type": "code",
      "metadata": {
        "id": "dMqkNaeBq33S",
        "colab": {
          "base_uri": "https://localhost:8080/"
        },
        "outputId": "404bea05-1c41-4718-cf49-b12b55125aaa"
      },
      "source": [
        "#All vertices of sample 2 stored in nodes set\n",
        "temp = []\n",
        "temp1 = []\n",
        "for i in sample2:\n",
        "  temp.append(i[0])\n",
        "  temp1.append(i[1])\n",
        "nodes = set(temp).union(set(temp1))\n",
        "print(nodes)"
      ],
      "execution_count": null,
      "outputs": [
        {
          "output_type": "stream",
          "name": "stdout",
          "text": [
            "{'C', 'F', 'S', 'B', 'G', 'A', 'D', 'E'}\n"
          ]
        }
      ]
    },
    {
      "cell_type": "code",
      "metadata": {
        "id": "zicBnSzcx6re",
        "colab": {
          "base_uri": "https://localhost:8080/"
        },
        "outputId": "dac5e27f-ac8f-42b8-e49b-b67220d0984d"
      },
      "source": [
        "#UCS for sample 2\n",
        "costs = dict()\n",
        "temp_cost = dict()\n",
        "path = dict()\n",
        "for i in nodes:\n",
        "  costs[i] = 999999\n",
        "  path[i] = ' '\n",
        "open = set()\n",
        "closed = set()\n",
        "start_node = input(\"Enter the Start Node: \")\n",
        "open.add(start_node)\n",
        "path[start_node] = start_node\n",
        "costs[start_node] = 0\n",
        "print(\"Using UCS Algorithm: \")\n",
        "UCS(sample2, costs, open, closed, start_node)\n",
        "goal_node = input(\"Enter the Goal Node: \")\n",
        "print(\"\\n\\nPath with least cost is: \",path[goal_node])"
      ],
      "execution_count": null,
      "outputs": [
        {
          "output_type": "stream",
          "name": "stdout",
          "text": [
            "Enter the Start Node: A\n",
            "Using UCS Algorithm: \n",
            "Open =  ['A']  Closed =  []\n",
            "Open =  ['E']  Closed =  ['A']\n",
            "Open =  ['F']  Closed =  ['A', 'E']\n",
            "Open =  ['G']  Closed =  ['A', 'E', 'F']\n",
            "Open =  []  Closed =  ['G', 'A', 'E', 'F']\n",
            "Enter the Goal Node: D\n",
            "\n",
            "\n",
            "Path with least cost is:   \n"
          ]
        }
      ]
    },
    {
      "cell_type": "code",
      "metadata": {
        "id": "pi2QJUXg2W7f",
        "colab": {
          "base_uri": "https://localhost:8080/"
        },
        "outputId": "e9c8e7f1-1832-46bd-fffa-16255e055966"
      },
      "source": [
        "#A_star for sample 2\n",
        "costs = dict()\n",
        "temp_cost = dict()\n",
        "path = dict()\n",
        "for i in nodes:\n",
        "  costs[i] = 999999\n",
        "  path[i] = ' '\n",
        "open = set()\n",
        "closed = set()\n",
        "start_node = input(\"Enter the Start Node: \")\n",
        "open.add(start_node)\n",
        "path[start_node] = start_node\n",
        "costs[start_node] = 0\n",
        "print(\"Using A_Star Algorithm: \")\n",
        "A_star(sample2, costs, open, closed, start_node)\n",
        "goal_node = input(\"Enter the Goal Node: \")\n",
        "print(\"\\n\\nPath with least cost is: \",path[goal_node])"
      ],
      "execution_count": null,
      "outputs": [
        {
          "output_type": "stream",
          "name": "stdout",
          "text": [
            "Enter the Start Node: A\n",
            "Using A_Star Algorithm: \n",
            "Open =  ['A']  Closed =  []\n",
            "Open =  ['E']  Closed =  ['A']\n",
            "Open =  ['F']  Closed =  ['A', 'E']\n",
            "Open =  ['G']  Closed =  ['A', 'E', 'F']\n",
            "Open =  []  Closed =  ['G', 'A', 'E', 'F']\n",
            "Enter the Goal Node: F\n",
            "\n",
            "\n",
            "Path with least cost is:  A -> E -> F\n"
          ]
        }
      ]
    }
  ]
}