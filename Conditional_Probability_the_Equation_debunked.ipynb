{
  "cells": [
    {
      "cell_type": "markdown",
      "id": "51705a58-4164-4525-a750-29e84bddcf73",
      "metadata": {
        "id": "51705a58-4164-4525-a750-29e84bddcf73"
      },
      "source": [
        "$P(A|B) = \\frac{P(A,B)}{P(B)} \\tag{1}$\n",
        "\n",
        "Equation (1) is used to obtain the Probablity of an event $A$ to happen given that event $B$ has already occured. To explain this equation, Let our sample space (The set of all possible outcomes) be $S$. All elements in S have the same likelihood to happen. Which makes us uncertain to predict the outcome. $A$ and $B$ are two events. That means they are the two subsets of $S$. We know that, $P(B) = \\frac{n(B)}{n(S)}$, where $n(B)$ is the number of elements in set $B$ and $n(S)$ is the number of elements in Sample Space.\n",
        "\n",
        "How this equation is obtained ? To find the probability of an Event we have to find its Propotion in relation with Possible Outcomes. Sample space $S$, is a set of possible outcomes, and set $B$ is a subset of $S$ which is also a set containing outcomes.\n",
        "\n",
        "Now getting back to equation (1), The objective of that equation is two find probability of an event $A$ to happen if already event $B$ has happend. If I further elaborate (1), The objective is to find out the probabibity of both $A$ and $B$ to happen if $B$ already happened. The clause $B$ already happened have very high significance. Since $B$ is already happend it reduced the number of possible outcomes from $n(S)$ to $n(B)$. Happening of $B$ makes the possibility of $B^\\complement$ to happen $0$. That means $S-B$ can't be considered as a set of possible outcomes. Thus $B$ is our new $S$, formally speaking our new Sample Space.\n",
        "\n",
        "Our new Sample Space may include subsets like $(A \\cap B), (C \\cap B), (D \\cap B)$ and so on. Our interest is only to find the propotion of set $(A \\cap B ) $ in relation to $B$ (the new sample space). Because $P(A|B)$ is simply is the conditional probability of of an event $A$ to happen given that $B$ is already happened. That means, it is the probability of both $A$ and $B$ to happen if $B$ is our sample space ($B$ already happened). If we translate this statement into an equation it becomes as (2) \n",
        "\n",
        "$P(A|B) = \\frac{n(A \\cap B)}{n(B)} \\tag{2}$\n",
        "\n",
        "\n",
        "I have mentioned in my other [blog](https://ai.aswindev.com/blog/Some_Symbols_In_Probability/), that both $P(A,B)$ and $P(A \\cap B)$ are same. We know that $(A \\cap B) \\subseteq B$ and $(A \\cap B) ⊆ A$. So $n(A \\cap B) \\leq n(B)$. \n",
        "\n",
        "I think equation (2) makes more sense to us that (1). Because it is in a simpler form compared to (1). We can mathematically prove both (1) and (2) are same. Take a look below.\n",
        "\n",
        "$P(A,B) = \\frac{n(A \\cap B)}{n(S)} \\tag{3}$\n",
        "$P(B) = \\frac{n(B)}{n(sS} \\tag{4}$\n",
        "\n",
        "Dividing equation (3) with (4) makes,\n",
        "\n",
        "$\\frac{P(A,B)}{P(B)} = \\frac{n(A\\cap B)}{n(B)} = P(A|B) $\n"
      ]
    }
  ],
  "metadata": {
    "kernelspec": {
      "display_name": "Python 3 (ipykernel)",
      "language": "python",
      "name": "python3"
    },
    "language_info": {
      "codemirror_mode": {
        "name": "ipython",
        "version": 3
      },
      "file_extension": ".py",
      "mimetype": "text/x-python",
      "name": "python",
      "nbconvert_exporter": "python",
      "pygments_lexer": "ipython3",
      "version": "3.8.10"
    },
    "colab": {
      "name": "Conditional_Probability_the_Equation_debunked.ipynb",
      "provenance": []
    }
  },
  "nbformat": 4,
  "nbformat_minor": 5
}