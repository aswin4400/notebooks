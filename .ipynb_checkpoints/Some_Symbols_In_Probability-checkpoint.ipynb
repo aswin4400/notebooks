{
  "cells": [
    {
      "cell_type": "markdown",
      "id": "VUqyARaVtvrf",
      "metadata": {
        "id": "VUqyARaVtvrf"
      },
      "source": [
        "# Same thing but different form  !!\n",
        "\n",
        "The best way to learn mathematical concepts is by simply translatting equations into english words. Mathematical equations are the primary factor behind the hatred towards that field. But it is unavoidable. Mathematical equations helps to conceptualize complex theories into few letters, and we need their help to perform calculations. While I was learning Probabilty for my exams, I came accross an equation that looks like this.\n",
        "\n",
        "$P(A,B) = P(A|B)P(B)\\tag{1} $ \n",
        "\n",
        "Its called the product rule. The first doubt that came into my mind is that what does $P(A,B)$ indicates ? I know $P(A)$ means, *Probability of an event A to occur* and $P(B)$, *Probability of an event B to occur*. Same story. But what does $P(A,B)$ indicates ? Its nothing but the same as $P(A\\cap B)$. Sometimes these mathematicians are lazy as programmers. So they use *comma* instead of $\\cap $. The absence of this *set-intersection* symbol in keyboard could also be a reason. Anyway, both are just same. In some textbooks and articles a third format like, $P(AB)$, are also found. These different variations can put a beginner in dilemma, Thanks to the search engines, and whoever behind those.\n",
        "\n",
        "#The given symbol\n",
        "\n",
        "If you look at the Right Hand Side (RHS) of equation (1), you can see '|', the pipe symbol. This is called as \"Given\", atleast in the context of Probability. So, $P(A|B)$ translates to, \"*Probability of A, given B*\". In one word it can be called as **Conditional Probability**. The probability of an event A to occur given the knowledge that an Event B has already occured, can be represented as $P(A|B)$.\n",
        "\n",
        "#The independent Symbol\n",
        "\n",
        "$X \\perp \\! \\!\\! \\perp Y$, says X is independent of Y. The $\\perp \\!\\!\\! \\perp$ Symbol is used to indicate independence. If we use that in context of "
      ]
    }
  ],
  "metadata": {
    "colab": {
      "name": "Probability.ipynb",
      "provenance": []
    },
    "kernelspec": {
      "display_name": "Python 3 (ipykernel)",
      "language": "python",
      "name": "python3"
    },
    "language_info": {
      "codemirror_mode": {
        "name": "ipython",
        "version": 3
      },
      "file_extension": ".py",
      "mimetype": "text/x-python",
      "name": "python",
      "nbconvert_exporter": "python",
      "pygments_lexer": "ipython3",
      "version": "3.8.10"
    }
  },
  "nbformat": 4,
  "nbformat_minor": 5
}