{
  "nbformat": 4,
  "nbformat_minor": 0,
  "metadata": {
    "colab": {
      "name": "An_Analysis_on_CICdataset.ipynb",
      "provenance": [],
      "authorship_tag": "ABX9TyN2YNkq3pRirAP/vX2+vcRH",
      "include_colab_link": true
    },
    "kernelspec": {
      "name": "python3",
      "display_name": "Python 3"
    },
    "language_info": {
      "name": "python"
    }
  },
  "cells": [
    {
      "cell_type": "markdown",
      "metadata": {
        "id": "view-in-github",
        "colab_type": "text"
      },
      "source": [
        "<a href=\"https://colab.research.google.com/github/aswin4400/notebooks/blob/master/An_Analysis_on_CICdataset.ipynb\" target=\"_parent\"><img src=\"https://colab.research.google.com/assets/colab-badge.svg\" alt=\"Open In Colab\"/></a>"
      ]
    },
    {
      "cell_type": "markdown",
      "source": [
        ""
      ],
      "metadata": {
        "id": "ZlG-gceaKdZ8"
      }
    },
    {
      "cell_type": "markdown",
      "source": [
        "In this blog we are going to discuss CICDataset 2017."
      ],
      "metadata": {
        "id": "4Ue2GUr_Khxb"
      }
    }
  ]
}