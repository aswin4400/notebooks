{
  "cells": [
    {
      "cell_type": "markdown",
      "source": [
        "# Probability\n",
        "\n",
        "The best way to learn mathematical concepts is by simply translatting equations into english words. Mathematical equations are the primary factor behind the hatred towards that field. But it is unavoidable. Mathematical equations helps to conceptualize complex theories into few letters, and we need their help to perform calculations. While I was learning Probabilty for my exams, I came accross an equation that looks like this.\n",
        "\n",
        "$P(A,B) = P(A|B)P(B)$\n",
        "\n",
        "Its called the product rule. The first doubt that came into my mind is that what does $P(A,B)$ indicates ?"
      ],
      "metadata": {
        "id": "VUqyARaVtvrf"
      },
      "id": "VUqyARaVtvrf"
    }
  ],
  "metadata": {
    "kernelspec": {
      "display_name": "Python 3 (ipykernel)",
      "language": "python",
      "name": "python3"
    },
    "language_info": {
      "codemirror_mode": {
        "name": "ipython",
        "version": 3
      },
      "file_extension": ".py",
      "mimetype": "text/x-python",
      "name": "python",
      "nbconvert_exporter": "python",
      "pygments_lexer": "ipython3",
      "version": "3.8.10"
    },
    "colab": {
      "name": "Probability.ipynb",
      "provenance": []
    }
  },
  "nbformat": 4,
  "nbformat_minor": 5
}