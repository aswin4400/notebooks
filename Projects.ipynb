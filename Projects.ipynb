{
  "nbformat": 4,
  "nbformat_minor": 0,
  "metadata": {
    "colab": {
      "name": "Projects.ipynb",
      "provenance": [],
      "authorship_tag": "ABX9TyOhjiTqqEg/PkVFBCxcHyfF"
    },
    "kernelspec": {
      "name": "python3",
      "display_name": "Python 3"
    },
    "language_info": {
      "name": "python"
    }
  },
  "cells": [
    {
      "cell_type": "markdown",
      "source": [
        "# Postbook\n",
        "Postbook is python package that you can install\n",
        "using pip (`pip install postbook`) [https://pypi.org\n",
        "/project/postbook/]. It helps to publish your Google\n",
        "Colab or **JUPYTER** notebooks as a **blogs**. I made my\n",
        "own blog **ai.aswindev.com** using postbook. I got this\n",
        "idea on 2nd week of December 2021, when I was\n",
        "working on my Data Analytics Lab at LYIT. The\n",
        "project is not fully furnished, some UI upgrades and\n",
        "currently the package will work only on Linux\n",
        "machines, I'm planning to release a variant for\n",
        "Windows and Mac."
      ],
      "metadata": {
        "id": "pCD5-58rsMN5"
      }
    },
    {
      "cell_type": "markdown",
      "source": [
        "# Editmenu\n",
        "Editmenu is another package that I published on\n",
        "Pypi (pip install editmenu) [https://pypi.org/project/editmenu/]. I developed this package when I was\n",
        "working on ActiveLobby Info Systems India, January 2021. This is a simple package that helps you to\n",
        "create a editable menu for CLI using python\n",
        "dictionary. Conventionally it is not possible to move\n",
        "and down and perform edit operations on a\n",
        "console or terminal, but with editmenu you can\n",
        "create beautiful CLI python programs, which is more\n",
        "user friendly and less boring. This package works fine\n",
        "on Ubuntu Linux. But in windows some bugs are\n",
        "occurring, which I'm trying to fix"
      ],
      "metadata": {
        "id": "psRj35KPsisY"
      }
    },
    {
      "cell_type": "markdown",
      "source": [
        "# CDR-IPDR Visualizer\n",
        "This project is data visualization tool that me and my\n",
        "friends built back in 2020 as our Bachelor's project.\n",
        "This tools helps to visualize CDR ( Call detail Record)\n",
        "and IPDR (Internet Protocol Detail Record). The\n",
        "project developed based on a problem statement\n",
        "published by Indian State Police Department as part\n",
        "Smart India Hackathon. We used NodeJS, ReactJS,\n",
        "D3js and Neo4j to build it. The web based tool can\n",
        "help Police Department to prepare evidance for a\n",
        "case."
      ],
      "metadata": {
        "id": "VoRNZ_fdtIGf"
      }
    },
    {
      "cell_type": "markdown",
      "source": [
        "# Realtime Multiplayer Quiz game\n",
        "A simple but interesting Web based project built with\n",
        "Flask Python(backend), and ReactJS, Bootstrap\n",
        "(frontend). This quiz game updates the score in\n",
        "Realtime and shows the score card every\n",
        "participants which makes them more competitive,\n",
        "thanks to Socket.io for making it easier with the\n",
        "bidirectional communication. The project is created\n",
        "as a part of event conducted at ActiveLobby, India,\n",
        "During December 2020."
      ],
      "metadata": {
        "id": "HybNPHPktQEc"
      }
    },
    {
      "cell_type": "markdown",
      "source": [
        "#Chrome Extension to Block Graphics Content\n",
        "A chrome extension to block or remove Graphics\n",
        "Content. This can be useful, if the user\n",
        "wanted to reduce social media usage."
      ],
      "metadata": {
        "id": "MMvirarPtazs"
      }
    },
    {
      "cell_type": "markdown",
      "source": [
        "#From PDF to Database A student info system\n",
        "During my bachelors at KTU, examination scores\n",
        "were published as a common PDF file for each\n",
        "college. The PDF file contains, student id, course\n",
        "code and corresponding grades. It was very difficult\n",
        "for a student to check his/her grades on these PDF\n",
        "files. One reason is that the PDF file contains every\n",
        "students of that college's grades and it is really hard\n",
        "to keep track of course codes and course names.\n",
        "So in 2018 I made a python Django web app that\n",
        "maintains a centralized and automated student\n",
        "information system, which have features including\n",
        "PDF to DB record insertion, Student ranking etc."
      ],
      "metadata": {
        "id": "wm738XjnthWF"
      }
    }
  ]
}